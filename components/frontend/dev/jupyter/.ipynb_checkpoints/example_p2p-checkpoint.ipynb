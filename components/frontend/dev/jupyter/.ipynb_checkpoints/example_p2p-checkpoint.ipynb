{
 "cells": [
  {
   "cell_type": "code",
   "execution_count": 1,
   "metadata": {},
   "outputs": [],
   "source": [
    "import pandas as pd\n",
    "import matplotlib.pyplot as plt\n",
    "from sklearn.cluster import KMeans"
   ]
  },
  {
   "cell_type": "code",
   "execution_count": 5,
   "metadata": {},
   "outputs": [],
   "source": [
    "df = pd.read_csv('data.csv')"
   ]
  },
  {
   "cell_type": "code",
   "execution_count": 6,
   "metadata": {},
   "outputs": [
    {
     "data": {
      "text/html": [
       "<div>\n",
       "<style scoped>\n",
       "    .dataframe tbody tr th:only-of-type {\n",
       "        vertical-align: middle;\n",
       "    }\n",
       "\n",
       "    .dataframe tbody tr th {\n",
       "        vertical-align: top;\n",
       "    }\n",
       "\n",
       "    .dataframe thead th {\n",
       "        text-align: right;\n",
       "    }\n",
       "</style>\n",
       "<table border=\"1\" class=\"dataframe\">\n",
       "  <thead>\n",
       "    <tr style=\"text-align: right;\">\n",
       "      <th></th>\n",
       "      <th>Unnamed: 0</th>\n",
       "      <th>yy1</th>\n",
       "      <th>y1</th>\n",
       "      <th>equity</th>\n",
       "      <th>hequity</th>\n",
       "      <th>deq</th>\n",
       "      <th>reteq</th>\n",
       "      <th>equitinc</th>\n",
       "      <th>hbrok</th>\n",
       "      <th>htrad</th>\n",
       "      <th>...</th>\n",
       "      <th>lloan3</th>\n",
       "      <th>lloan4</th>\n",
       "      <th>lloan5</th>\n",
       "      <th>lloan6</th>\n",
       "      <th>lloan7</th>\n",
       "      <th>lloan8</th>\n",
       "      <th>lloan9</th>\n",
       "      <th>lloan10</th>\n",
       "      <th>lloan11</th>\n",
       "      <th>lloan12</th>\n",
       "    </tr>\n",
       "  </thead>\n",
       "  <tbody>\n",
       "    <tr>\n",
       "      <th>0</th>\n",
       "      <td>1</td>\n",
       "      <td>1</td>\n",
       "      <td>11</td>\n",
       "      <td>0.0</td>\n",
       "      <td>0</td>\n",
       "      <td>0</td>\n",
       "      <td>0.0</td>\n",
       "      <td>0.000000</td>\n",
       "      <td>0</td>\n",
       "      <td>0</td>\n",
       "      <td>...</td>\n",
       "      <td>0</td>\n",
       "      <td>0</td>\n",
       "      <td>0.0</td>\n",
       "      <td>0.0</td>\n",
       "      <td>0.0</td>\n",
       "      <td>0</td>\n",
       "      <td>0</td>\n",
       "      <td>380</td>\n",
       "      <td>0</td>\n",
       "      <td>0</td>\n",
       "    </tr>\n",
       "    <tr>\n",
       "      <th>1</th>\n",
       "      <td>1109</td>\n",
       "      <td>2</td>\n",
       "      <td>21</td>\n",
       "      <td>0.0</td>\n",
       "      <td>0</td>\n",
       "      <td>0</td>\n",
       "      <td>0.0</td>\n",
       "      <td>0.000000</td>\n",
       "      <td>0</td>\n",
       "      <td>0</td>\n",
       "      <td>...</td>\n",
       "      <td>0</td>\n",
       "      <td>0</td>\n",
       "      <td>0.0</td>\n",
       "      <td>0.0</td>\n",
       "      <td>0.0</td>\n",
       "      <td>0</td>\n",
       "      <td>0</td>\n",
       "      <td>0</td>\n",
       "      <td>0</td>\n",
       "      <td>0</td>\n",
       "    </tr>\n",
       "    <tr>\n",
       "      <th>2</th>\n",
       "      <td>2217</td>\n",
       "      <td>3</td>\n",
       "      <td>31</td>\n",
       "      <td>127150.0</td>\n",
       "      <td>1</td>\n",
       "      <td>10000</td>\n",
       "      <td>117150.0</td>\n",
       "      <td>1.046361</td>\n",
       "      <td>1</td>\n",
       "      <td>1</td>\n",
       "      <td>...</td>\n",
       "      <td>0</td>\n",
       "      <td>0</td>\n",
       "      <td>0.0</td>\n",
       "      <td>0.0</td>\n",
       "      <td>0.0</td>\n",
       "      <td>10000</td>\n",
       "      <td>0</td>\n",
       "      <td>1000</td>\n",
       "      <td>500</td>\n",
       "      <td>0</td>\n",
       "    </tr>\n",
       "    <tr>\n",
       "      <th>3</th>\n",
       "      <td>3326</td>\n",
       "      <td>4</td>\n",
       "      <td>41</td>\n",
       "      <td>0.0</td>\n",
       "      <td>0</td>\n",
       "      <td>0</td>\n",
       "      <td>0.0</td>\n",
       "      <td>0.000000</td>\n",
       "      <td>0</td>\n",
       "      <td>0</td>\n",
       "      <td>...</td>\n",
       "      <td>0</td>\n",
       "      <td>0</td>\n",
       "      <td>0.0</td>\n",
       "      <td>210000.0</td>\n",
       "      <td>0.0</td>\n",
       "      <td>0</td>\n",
       "      <td>0</td>\n",
       "      <td>40</td>\n",
       "      <td>900</td>\n",
       "      <td>0</td>\n",
       "    </tr>\n",
       "  </tbody>\n",
       "</table>\n",
       "<p>4 rows × 66 columns</p>\n",
       "</div>"
      ],
      "text/plain": [
       "   Unnamed: 0  yy1  y1    equity  hequity    deq     reteq  equitinc  hbrok  \\\n",
       "0           1    1  11       0.0        0      0       0.0  0.000000      0   \n",
       "1        1109    2  21       0.0        0      0       0.0  0.000000      0   \n",
       "2        2217    3  31  127150.0        1  10000  117150.0  1.046361      1   \n",
       "3        3326    4  41       0.0        0      0       0.0  0.000000      0   \n",
       "\n",
       "   htrad   ...     lloan3  lloan4  lloan5    lloan6  lloan7  lloan8  lloan9  \\\n",
       "0      0   ...          0       0     0.0       0.0     0.0       0       0   \n",
       "1      0   ...          0       0     0.0       0.0     0.0       0       0   \n",
       "2      1   ...          0       0     0.0       0.0     0.0   10000       0   \n",
       "3      0   ...          0       0     0.0  210000.0     0.0       0       0   \n",
       "\n",
       "   lloan10  lloan11  lloan12  \n",
       "0      380        0        0  \n",
       "1        0        0        0  \n",
       "2     1000      500        0  \n",
       "3       40      900        0  \n",
       "\n",
       "[4 rows x 66 columns]"
      ]
     },
     "execution_count": 6,
     "metadata": {},
     "output_type": "execute_result"
    }
   ],
   "source": [
    "df.head(n=4)"
   ]
  },
  {
   "cell_type": "code",
   "execution_count": 7,
   "metadata": {},
   "outputs": [
    {
     "data": {
      "text/plain": [
       "(597, 66)"
      ]
     },
     "execution_count": 7,
     "metadata": {},
     "output_type": "execute_result"
    }
   ],
   "source": [
    "df_trunc = df.loc[(df['vehic'] < 10000) & (df['vehic'] > 0)]\n",
    "df_trunc.shape"
   ]
  },
  {
   "cell_type": "code",
   "execution_count": 8,
   "metadata": {},
   "outputs": [],
   "source": [
    "kmeans1 = KMeans(n_clusters=9).fit(df_trunc[['vehic', 'fin']])\n",
    "kmeans1 = KMeans(n_clusters=9).fit(df_trunc[['vehic']])"
   ]
  },
  {
   "cell_type": "markdown",
   "metadata": {},
   "source": [
    "## HISTOGRAM"
   ]
  },
  {
   "cell_type": "code",
   "execution_count": 9,
   "metadata": {},
   "outputs": [
    {
     "data": {
      "image/png": "[encoded data removed]",
      "text/plain": [
       "<matplotlib.figure.Figure at 0x10fdb7e10>"
      ]
     },
     "metadata": {},
     "output_type": "display_data"
    }
   ],
   "source": [
    "plt.hist(df_trunc['vehic'], bins=10)\n",
    "plt.show()"
   ]
  },
  {
   "cell_type": "markdown",
   "metadata": {},
   "source": [
    "## SCATTER"
   ]
  },
  {
   "cell_type": "code",
   "execution_count": 10,
   "metadata": {},
   "outputs": [
    {
     "data": {
      "image/png": "[encoded data removed]",
      "text/plain": [
       "<matplotlib.figure.Figure at 0x10a2955c0>"
      ]
     },
     "metadata": {},
     "output_type": "display_data"
    }
   ],
   "source": [
    "plt.scatter(df['vehic'], df['fin'])\n",
    "plt.show()"
   ]
  },
  {
   "cell_type": "code",
   "execution_count": 11,
   "metadata": {},
   "outputs": [],
   "source": [
    "from example import Thing\n",
    "from IPython.display import display\n",
    "\n",
    "scatter = {'x': 'fin', 'y':'fin', 'renderType':'scatter'}\n",
    "title = {'data':'Hack Week 2019 - change','renderType':'title'}\n",
    "subtitle = {'data':'Why We Hack','renderType':'subtitle'}\n",
    "paragraph = {'data': 'While last year’s Hack Week was our first, it helped us start the year with a fresh perspective, stretch our thinking and pull the company together in a fun, collaborative way. A week dedicated to data-driven projects outside the scope of our normal work, Hack Week is not only a chance for us to flex our creative muscles and get our hands dirty with code, it’s also an opportunity to work with new people and build rapport.', 'renderType':'paragraph'}\n",
    "\n",
    "mything = Thing(props={\"data\":df.to_csv(), \"group\":[title,subtitle,scatter,paragraph]})\n",
    "\n",
    "display(mything)\n",
    "\n"
   ]
  },
  {
   "cell_type": "markdown",
   "metadata": {},
   "source": [
    "## REGRESSION (?)"
   ]
  },
  {
   "cell_type": "code",
   "execution_count": 14,
   "metadata": {},
   "outputs": [],
   "source": [
    "display(mything)"
   ]
  },
  {
   "cell_type": "code",
   "execution_count": null,
   "metadata": {},
   "outputs": [],
   "source": []
  }
 ],
 "metadata": {
  "kernelspec": {
   "display_name": "Python 3",
   "language": "python",
   "name": "python3"
  },
  "language_info": {
   "codemirror_mode": {
    "name": "ipython",
    "version": 3
   },
   "file_extension": ".py",
   "mimetype": "text/x-python",
   "name": "python",
   "nbconvert_exporter": "python",
   "pygments_lexer": "ipython3",
   "version": "3.6.4"
  }
 },
 "nbformat": 4,
 "nbformat_minor": 2
}
