{
 "cells": [
  {
   "cell_type": "code",
   "execution_count": 3,
   "metadata": {},
   "outputs": [],
   "source": [
    "import pandas as pd\n",
    "import pandastoproduction as p2p"
   ]
  },
  {
   "cell_type": "code",
   "execution_count": 4,
   "metadata": {},
   "outputs": [],
   "source": [
    "df = pd.DataFrame({ 'Count': [1,2,3,4,5,6], 'Age': [1,2,3,4,5,6]})\n",
    "\n",
    "s1 = p2p.Scatterplot(df, x='Count', y='Age')\n",
    "p1 = p2p.Paragraph('This scatterplot shows an interesting trend...')\n",
    "page1 = p2p.Page('Page 1 Title', content=[s1, p1])\n",
    "\n",
    "p2p.show(page1)"
   ]
  },
  {
   "cell_type": "code",
   "execution_count": 5,
   "metadata": {},
   "outputs": [],
   "source": [
    "df = pd.DataFrame({ 'Count': [1,2,1,2,1,2], 'Age': [1,2,3,4,5,6]})\n",
    "\n",
    "h1 = p2p.Histogram(df, x='Age', y='Age')\n",
    "p2 = p2p.Paragraph('This histogram shows...')\n",
    "page2 = p2p.Page('Page 2 Title', content=[h1, p2])\n",
    "\n",
    "p2p.show(page2)"
   ]
  },
  {
   "cell_type": "code",
   "execution_count": 6,
   "metadata": {},
   "outputs": [
    {
     "name": "stdout",
     "output_type": "stream",
     "text": [
      "Publishing...\n",
      "Request:\n",
      "POST http://compose-proxy/api/dataframes/\n",
      "--e213983beb4d937adf2ad0eab7374fbd\n",
      "Content-Disposition: form-data; name=\"file\"; filename=\"dataframe.csv\"\n",
      "\n",
      "\n",
      "--e213983beb4d937adf2ad0eab7374fbd--\n",
      "\n",
      "Response:\n",
      "{\n",
      "    \"digest\": \"d41d8cd98f00b204e9800998ecf8427e\",\n",
      "    \"id\": 3,\n",
      "    \"url\": \"http://localhost/file/dataframes/dataframe_3.csv\"\n",
      "}\n",
      "Request:\n",
      "POST http://compose-proxy/api/pages/\n",
      "{\n",
      "    \"content\": \"[{\\\"dataframe\\\": {\\\"id\\\": 3, \\\"digest\\\": \\\"d41d8cd98f00b204e9800998ecf8427e\\\", \\\"url\\\": \\\"http://localhost/file/dataframes/dataframe_3.csv\\\"}, \\\"x\\\": \\\"Count\\\", \\\"y\\\": \\\"Age\\\", \\\"render_type\\\": \\\"scatter\\\"}, {\\\"data\\\": \\\"This scatterplot shows an interesting trend...\\\", \\\"render_type\\\": \\\"paragraph\\\"}]\",\n",
      "    \"title\": \"Page 1 Title\"\n",
      "}\n",
      "Response:\n",
      "{\n",
      "    \"content\": \"[{\\\"dataframe\\\": {\\\"id\\\": 3, \\\"digest\\\": \\\"d41d8cd98f00b204e9800998ecf8427e\\\", \\\"url\\\": \\\"http://localhost/file/dataframes/dataframe_3.csv\\\"}, \\\"x\\\": \\\"Count\\\", \\\"y\\\": \\\"Age\\\", \\\"render_type\\\": \\\"scatter\\\"}, {\\\"data\\\": \\\"This scatterplot shows an interesting trend...\\\", \\\"render_type\\\": \\\"paragraph\\\"}]\",\n",
      "    \"dataframe_id\": null,\n",
      "    \"id\": 2,\n",
      "    \"title\": \"Page 1 Title\"\n",
      "}\n",
      "Request:\n",
      "POST http://compose-proxy/api/dataframes/\n",
      "--ca948292f09b739c11af80b831968435\n",
      "Content-Disposition: form-data; name=\"file\"; filename=\"dataframe.csv\"\n",
      "\n",
      "\n",
      "--ca948292f09b739c11af80b831968435--\n",
      "\n",
      "Response:\n",
      "{\n",
      "    \"digest\": \"d41d8cd98f00b204e9800998ecf8427e\",\n",
      "    \"id\": 4,\n",
      "    \"url\": \"http://localhost/file/dataframes/dataframe_4.csv\"\n",
      "}\n",
      "Request:\n",
      "POST http://compose-proxy/api/pages/\n",
      "{\n",
      "    \"content\": \"[{\\\"dataframe\\\": {\\\"id\\\": 4, \\\"digest\\\": \\\"d41d8cd98f00b204e9800998ecf8427e\\\", \\\"url\\\": \\\"http://localhost/file/dataframes/dataframe_4.csv\\\"}, \\\"x\\\": \\\"Age\\\", \\\"y\\\": \\\"Age\\\", \\\"render_type\\\": \\\"histogram\\\"}, {\\\"data\\\": \\\"This histogram shows...\\\", \\\"render_type\\\": \\\"paragraph\\\"}]\",\n",
      "    \"title\": \"Page 2 Title\"\n",
      "}\n",
      "Response:\n",
      "{\n",
      "    \"content\": \"[{\\\"dataframe\\\": {\\\"id\\\": 4, \\\"digest\\\": \\\"d41d8cd98f00b204e9800998ecf8427e\\\", \\\"url\\\": \\\"http://localhost/file/dataframes/dataframe_4.csv\\\"}, \\\"x\\\": \\\"Age\\\", \\\"y\\\": \\\"Age\\\", \\\"render_type\\\": \\\"histogram\\\"}, {\\\"data\\\": \\\"This histogram shows...\\\", \\\"render_type\\\": \\\"paragraph\\\"}]\",\n",
      "    \"dataframe_id\": null,\n",
      "    \"id\": 3,\n",
      "    \"title\": \"Page 2 Title\"\n",
      "}\n",
      "Done!\n"
     ]
    }
   ],
   "source": [
    "p2p.publish([page1, page2])"
   ]
  }
 ],
 "metadata": {
  "kernelspec": {
   "display_name": "Python 3",
   "language": "python",
   "name": "python3"
  },
  "language_info": {
   "codemirror_mode": {
    "name": "ipython",
    "version": 3
   },
   "file_extension": ".py",
   "mimetype": "text/x-python",
   "name": "python",
   "nbconvert_exporter": "python",
   "pygments_lexer": "ipython3",
   "version": "3.7.1"
  }
 },
 "nbformat": 4,
 "nbformat_minor": 2
}
