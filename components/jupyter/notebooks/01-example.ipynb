{
 "cells": [
  {
   "cell_type": "code",
   "execution_count": 1,
   "metadata": {},
   "outputs": [],
   "source": [
    "import pandas as pd\n",
    "import pandastoproduction as p2p"
   ]
  },
  {
   "cell_type": "code",
   "execution_count": 2,
   "metadata": {},
   "outputs": [],
   "source": [
    "df = pd.DataFrame({ 'Count': [1,2,3,4,5,6], 'Age': [1,2,3,4,5,6]})\n",
    "\n",
    "s1 = p2p.Scatterplot(df, x='Count', y='Age')\n",
    "p1 = p2p.Paragraph('This scatterplot shows an interesting trend...')\n",
    "page1 = p2p.Page('Page 1 Title', content=[s1, p1])\n",
    "\n",
    "p2p.show(page1)"
   ]
  },
  {
   "cell_type": "code",
   "execution_count": 5,
   "metadata": {},
   "outputs": [],
   "source": [
    "df = pd.DataFrame({ 'Count': [1,2,1,2,1,2], 'Age': [1,2,3,4,5,6]})\n",
    "\n",
    "h1 = p2p.Histogram(df, x='Age', bins=20)\n",
    "p2 = p2p.Paragraph('This histogram shows...')\n",
    "page2 = p2p.Page('Page 2 Title', content=[h1, p2])\n",
    "\n",
    "p2p.show(page2)"
   ]
  },
  {
   "cell_type": "code",
   "execution_count": 6,
   "metadata": {},
   "outputs": [
    {
     "name": "stdout",
     "output_type": "stream",
     "text": [
      "Publishing...\n",
      "Request:\n",
      "POST http://compose-proxy/api/dataframes/\n",
      "--3cb518cd09f2fec57021c12c50bceba3\n",
      "Content-Disposition: form-data; name=\"file\"; filename=\"dataframe.csv\"\n",
      "\n",
      "\n",
      "--3cb518cd09f2fec57021c12c50bceba3--\n",
      "\n",
      "Response:\n",
      "{\n",
      "    \"digest\": \"d41d8cd98f00b204e9800998ecf8427e\",\n",
      "    \"id\": 1,\n",
      "    \"url\": \"http://localhost/file/dataframes/dataframe_1.csv\"\n",
      "}\n",
      "Request:\n",
      "POST http://compose-proxy/api/pages/\n",
      "{\n",
      "    \"content\": \"[{\\\"dataframe\\\": {\\\"id\\\": 1, \\\"digest\\\": \\\"d41d8cd98f00b204e9800998ecf8427e\\\", \\\"url\\\": \\\"http://localhost/file/dataframes/dataframe_1.csv\\\"}, \\\"x\\\": \\\"Count\\\", \\\"y\\\": \\\"Age\\\", \\\"render_type\\\": \\\"scatter\\\"}, {\\\"data\\\": \\\"This scatterplot shows an interesting trend...\\\", \\\"render_type\\\": \\\"paragraph\\\"}]\",\n",
      "    \"title\": \"Page 1 Title\"\n",
      "}\n",
      "Response:\n",
      "{\n",
      "    \"content\": \"[{\\\"dataframe\\\": {\\\"id\\\": 1, \\\"digest\\\": \\\"d41d8cd98f00b204e9800998ecf8427e\\\", \\\"url\\\": \\\"http://localhost/file/dataframes/dataframe_1.csv\\\"}, \\\"x\\\": \\\"Count\\\", \\\"y\\\": \\\"Age\\\", \\\"render_type\\\": \\\"scatter\\\"}, {\\\"data\\\": \\\"This scatterplot shows an interesting trend...\\\", \\\"render_type\\\": \\\"paragraph\\\"}]\",\n",
      "    \"dataframe_id\": null,\n",
      "    \"id\": 2,\n",
      "    \"title\": \"Page 1 Title\"\n",
      "}\n",
      "Request:\n",
      "POST http://compose-proxy/api/dataframes/\n",
      "--641e9d054faa2ac557bed09b19f5c9f5\n",
      "Content-Disposition: form-data; name=\"file\"; filename=\"dataframe.csv\"\n",
      "\n",
      "\n",
      "--641e9d054faa2ac557bed09b19f5c9f5--\n",
      "\n",
      "Response:\n",
      "{\n",
      "    \"digest\": \"d41d8cd98f00b204e9800998ecf8427e\",\n",
      "    \"id\": 2,\n",
      "    \"url\": \"http://localhost/file/dataframes/dataframe_2.csv\"\n",
      "}\n",
      "Request:\n",
      "POST http://compose-proxy/api/pages/\n",
      "{\n",
      "    \"content\": \"[{\\\"dataframe\\\": {\\\"id\\\": 2, \\\"digest\\\": \\\"d41d8cd98f00b204e9800998ecf8427e\\\", \\\"url\\\": \\\"http://localhost/file/dataframes/dataframe_2.csv\\\"}, \\\"x\\\": \\\"Age\\\", \\\"bins\\\": 20, \\\"render_type\\\": \\\"histogram\\\"}, {\\\"data\\\": \\\"This histogram shows...\\\", \\\"render_type\\\": \\\"paragraph\\\"}]\",\n",
      "    \"title\": \"Page 2 Title\"\n",
      "}\n",
      "Response:\n",
      "{\n",
      "    \"content\": \"[{\\\"dataframe\\\": {\\\"id\\\": 2, \\\"digest\\\": \\\"d41d8cd98f00b204e9800998ecf8427e\\\", \\\"url\\\": \\\"http://localhost/file/dataframes/dataframe_2.csv\\\"}, \\\"x\\\": \\\"Age\\\", \\\"bins\\\": 20, \\\"render_type\\\": \\\"histogram\\\"}, {\\\"data\\\": \\\"This histogram shows...\\\", \\\"render_type\\\": \\\"paragraph\\\"}]\",\n",
      "    \"dataframe_id\": null,\n",
      "    \"id\": 3,\n",
      "    \"title\": \"Page 2 Title\"\n",
      "}\n",
      "Done!\n"
     ]
    }
   ],
   "source": [
    "p2p.publish([page1, page2])"
   ]
  },
  {
   "cell_type": "code",
   "execution_count": null,
   "metadata": {},
   "outputs": [],
   "source": []
  }
 ],
 "metadata": {
  "kernelspec": {
   "display_name": "Python 3",
   "language": "python",
   "name": "python3"
  },
  "language_info": {
   "codemirror_mode": {
    "name": "ipython",
    "version": 3
   },
   "file_extension": ".py",
   "mimetype": "text/x-python",
   "name": "python",
   "nbconvert_exporter": "python",
   "pygments_lexer": "ipython3",
   "version": "3.7.1"
  }
 },
 "nbformat": 4,
 "nbformat_minor": 2
}
