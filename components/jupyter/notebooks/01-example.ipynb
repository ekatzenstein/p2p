{
 "cells": [
  {
   "cell_type": "code",
   "execution_count": 1,
   "metadata": {},
   "outputs": [],
   "source": [
    "import pandas as pd\n",
    "import pandastoproduction as p2p"
   ]
  },
  {
   "cell_type": "code",
   "execution_count": 2,
   "metadata": {},
   "outputs": [],
   "source": [
    "df = pd.DataFrame({ 'Count': [1,2,3,4,5,6], 'Age': [1,2,3,4,5,6]})\n",
    "\n",
    "s1 = p2p.Scatterplot(df, x='Count', y='Age')\n",
    "p1 = p2p.Paragraph('This scatterplot shows an interesting trend...')\n",
    "page1 = p2p.Page('Page 1 Title', content=[s1, p1])\n",
    "\n",
    "p2p.show(page1)"
   ]
  },
  {
   "cell_type": "code",
   "execution_count": 11,
   "metadata": {},
   "outputs": [],
   "source": [
    "df = pd.DataFrame({ 'Count': [1,2,1,2,1,2], 'Age': [1,2,3,4,5,6]})\n",
    "\n",
    "h1 = p2p.Histogram(df, x='Age', y='Age')\n",
    "p2 = p2p.Paragraph('This histogram shows...')\n",
    "page2 = p2p.Page('Page 2 Title', content=[h1, p2])\n",
    "\n",
    "p2p.show(page2)"
   ]
  },
  {
   "cell_type": "code",
   "execution_count": null,
   "metadata": {},
   "outputs": [],
   "source": [
    "# p2p.publish(pages=[page1, page2])"
   ]
  }
 ],
 "metadata": {
  "kernelspec": {
   "display_name": "Python 3",
   "language": "python",
   "name": "python3"
  },
  "language_info": {
   "codemirror_mode": {
    "name": "ipython",
    "version": 3
   },
   "file_extension": ".py",
   "mimetype": "text/x-python",
   "name": "python",
   "nbconvert_exporter": "python",
   "pygments_lexer": "ipython3",
   "version": "3.7.1"
  }
 },
 "nbformat": 4,
 "nbformat_minor": 2
}
