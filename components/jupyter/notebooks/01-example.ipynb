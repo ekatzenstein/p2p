{
 "cells": [
  {
   "cell_type": "code",
   "execution_count": 14,
   "metadata": {},
   "outputs": [],
   "source": [
    "import pandas as pd\n",
    "import pandastoproduction as p2p"
   ]
  },
  {
   "cell_type": "code",
   "execution_count": 15,
   "metadata": {},
   "outputs": [
    {
     "name": "stdout",
     "output_type": "stream",
     "text": [
      "show: NotImplemented\n",
      "enjoy display() instead\n"
     ]
    },
    {
     "data": {
      "text/plain": [
       "<pandastoproduction.models.page.Page at 0x7f8e22678ba8>"
      ]
     },
     "metadata": {},
     "output_type": "display_data"
    }
   ],
   "source": [
    "s1 = p2p.Scatterplot()\n",
    "p1 = p2p.Paragraph('This scatterplot shows an interesting trend...')\n",
    "page1 = p2p.Page('Page 1 Title', content=[s1, p1])\n",
    "\n",
    "p2p.show(page1)"
   ]
  },
  {
   "cell_type": "code",
   "execution_count": 16,
   "metadata": {},
   "outputs": [
    {
     "name": "stdout",
     "output_type": "stream",
     "text": [
      "show: NotImplemented\n",
      "enjoy display() instead\n"
     ]
    },
    {
     "data": {
      "text/plain": [
       "<pandastoproduction.models.page.Page at 0x7f8e22678e10>"
      ]
     },
     "metadata": {},
     "output_type": "display_data"
    }
   ],
   "source": [
    "h1 = p2p.Histogram()\n",
    "p2 = p2p.Paragraph('This histogram shows...')\n",
    "b1 = p2p.Boxplot()\n",
    "p2 = p2p.Paragraph('This boxplot shows...')\n",
    "page2 = p2p.Page('Page 2 Title', content=[h1, p2, b1, p2])\n",
    "\n",
    "p2p.show(page2)"
   ]
  },
  {
   "cell_type": "code",
   "execution_count": 17,
   "metadata": {},
   "outputs": [],
   "source": [
    "# p2p.publish(pages=[page1, page2])"
   ]
  }
 ],
 "metadata": {
  "kernelspec": {
   "display_name": "Python 3",
   "language": "python",
   "name": "python3"
  },
  "language_info": {
   "codemirror_mode": {
    "name": "ipython",
    "version": 3
   },
   "file_extension": ".py",
   "mimetype": "text/x-python",
   "name": "python",
   "nbconvert_exporter": "python",
   "pygments_lexer": "ipython3",
   "version": "3.7.1"
  }
 },
 "nbformat": 4,
 "nbformat_minor": 2
}
