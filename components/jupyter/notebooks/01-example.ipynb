{
 "cells": [
  {
   "cell_type": "code",
   "execution_count": 1,
   "metadata": {},
   "outputs": [],
   "source": [
    "import pandas as pd\n",
    "import pandastoproduction as p2p"
   ]
  },
  {
   "cell_type": "code",
   "execution_count": 2,
   "metadata": {},
   "outputs": [],
   "source": [
    "df = pd.DataFrame({ 'Count': [1,2,3,4,5,6], 'Age': [1,2,3,4,5,6]})\n",
    "\n",
    "s1 = p2p.Scatterplot(df, x='Count', y='Age')\n",
    "p1 = p2p.Paragraph('This scatterplot shows an interesting trend...')\n",
    "page1 = p2p.Page('Page 1 Title', content=[s1, p1])\n",
    "\n",
    "p2p.show(page1)"
   ]
  },
  {
   "cell_type": "code",
   "execution_count": 3,
   "metadata": {},
   "outputs": [],
   "source": [
    "df = pd.DataFrame({ 'Count': [1,2,1,2,1,2], 'Age': [1,2,3,4,5,6]})\n",
    "\n",
    "h1 = p2p.Histogram(df, x='Age', bins=20)\n",
    "p2 = p2p.Paragraph('This histogram shows...')\n",
    "page2 = p2p.Page('Page 2 Title', content=[h1, p2])\n",
    "\n",
    "p2p.show(page2)"
   ]
  },
  {
   "cell_type": "code",
   "execution_count": 4,
   "metadata": {},
   "outputs": [
    {
     "name": "stdout",
     "output_type": "stream",
     "text": [
      "Publishing...\n",
      "Request:\n",
      "POST http://compose-proxy/api/dataframes/\n",
      "--a7dcbe9fc926d5203fb8216e99ce89dc\n",
      "Content-Disposition: form-data; name=\"file\"; filename=\"dataframe.csv\"\n",
      "\n",
      "Count,Age\n",
      "1,1\n",
      "2,2\n",
      "3,3\n",
      "4,4\n",
      "5,5\n",
      "6,6\n",
      "\n",
      "--a7dcbe9fc926d5203fb8216e99ce89dc--\n",
      "\n",
      "Response:\n",
      "{\n",
      "    \"digest\": \"34bda34fe82b8014010439b0aea952b9\",\n",
      "    \"id\": 16,\n",
      "    \"url\": \"http://localhost/file/dataframes/dataframe_16.csv\"\n",
      "}\n",
      "Request:\n",
      "POST http://compose-proxy/api/pages/\n",
      "{\n",
      "    \"content\": \"[{\\\"dataframe\\\": {\\\"id\\\": 16, \\\"digest\\\": \\\"34bda34fe82b8014010439b0aea952b9\\\", \\\"url\\\": \\\"http://localhost/file/dataframes/dataframe_16.csv\\\"}, \\\"x\\\": \\\"Count\\\", \\\"y\\\": \\\"Age\\\", \\\"render_type\\\": \\\"scatter\\\"}, {\\\"data\\\": \\\"This scatterplot shows an interesting trend...\\\", \\\"render_type\\\": \\\"paragraph\\\"}]\",\n",
      "    \"title\": \"Page 1 Title\"\n",
      "}\n",
      "Response:\n",
      "{\n",
      "    \"content\": \"[{\\\"dataframe\\\": {\\\"id\\\": 16, \\\"digest\\\": \\\"34bda34fe82b8014010439b0aea952b9\\\", \\\"url\\\": \\\"http://localhost/file/dataframes/dataframe_16.csv\\\"}, \\\"x\\\": \\\"Count\\\", \\\"y\\\": \\\"Age\\\", \\\"render_type\\\": \\\"scatter\\\"}, {\\\"data\\\": \\\"This scatterplot shows an interesting trend...\\\", \\\"render_type\\\": \\\"paragraph\\\"}]\",\n",
      "    \"dataframe_id\": null,\n",
      "    \"id\": 5,\n",
      "    \"title\": \"Page 1 Title\"\n",
      "}\n",
      "Request:\n",
      "POST http://compose-proxy/api/dataframes/\n",
      "--196df03eedeb7db228d8dec8fc3b40da\n",
      "Content-Disposition: form-data; name=\"file\"; filename=\"dataframe.csv\"\n",
      "\n",
      "Count,Age\n",
      "1,1\n",
      "2,2\n",
      "1,3\n",
      "2,4\n",
      "1,5\n",
      "2,6\n",
      "\n",
      "--196df03eedeb7db228d8dec8fc3b40da--\n",
      "\n",
      "Response:\n",
      "{\n",
      "    \"digest\": \"74e243b55f0001bb2089c770a72bb1e0\",\n",
      "    \"id\": 17,\n",
      "    \"url\": \"http://localhost/file/dataframes/dataframe_17.csv\"\n",
      "}\n",
      "Request:\n",
      "POST http://compose-proxy/api/pages/\n",
      "{\n",
      "    \"content\": \"[{\\\"dataframe\\\": {\\\"id\\\": 17, \\\"digest\\\": \\\"74e243b55f0001bb2089c770a72bb1e0\\\", \\\"url\\\": \\\"http://localhost/file/dataframes/dataframe_17.csv\\\"}, \\\"x\\\": \\\"Age\\\", \\\"bins\\\": 20, \\\"render_type\\\": \\\"histogram\\\"}, {\\\"data\\\": \\\"This histogram shows...\\\", \\\"render_type\\\": \\\"paragraph\\\"}]\",\n",
      "    \"title\": \"Page 2 Title\"\n",
      "}\n",
      "Response:\n",
      "{\n",
      "    \"content\": \"[{\\\"dataframe\\\": {\\\"id\\\": 17, \\\"digest\\\": \\\"74e243b55f0001bb2089c770a72bb1e0\\\", \\\"url\\\": \\\"http://localhost/file/dataframes/dataframe_17.csv\\\"}, \\\"x\\\": \\\"Age\\\", \\\"bins\\\": 20, \\\"render_type\\\": \\\"histogram\\\"}, {\\\"data\\\": \\\"This histogram shows...\\\", \\\"render_type\\\": \\\"paragraph\\\"}]\",\n",
      "    \"dataframe_id\": null,\n",
      "    \"id\": 6,\n",
      "    \"title\": \"Page 2 Title\"\n",
      "}\n",
      "Done!\n"
     ]
    }
   ],
   "source": [
    "p2p.publish([page1, page2])"
   ]
  },
  {
   "cell_type": "code",
   "execution_count": null,
   "metadata": {},
   "outputs": [],
   "source": []
  }
 ],
 "metadata": {
  "kernelspec": {
   "display_name": "Python 3",
   "language": "python",
   "name": "python3"
  },
  "language_info": {
   "codemirror_mode": {
    "name": "ipython",
    "version": 3
   },
   "file_extension": ".py",
   "mimetype": "text/x-python",
   "name": "python",
   "nbconvert_exporter": "python",
   "pygments_lexer": "ipython3",
   "version": "3.7.1"
  }
 },
 "nbformat": 4,
 "nbformat_minor": 2
}
